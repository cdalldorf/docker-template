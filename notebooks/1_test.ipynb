{
 "cells": [
  {
   "cell_type": "code",
   "execution_count": 1,
   "id": "17716da5-14cd-4d8e-9f6d-c7fdbfad79f2",
   "metadata": {},
   "outputs": [],
   "source": [
    "# this is a test notebook"
   ]
  },
  {
   "cell_type": "code",
   "execution_count": 2,
   "id": "240ceb75-997f-4e28-96e9-5b482176de3b",
   "metadata": {},
   "outputs": [],
   "source": [
    "import socket"
   ]
  },
  {
   "cell_type": "code",
   "execution_count": 4,
   "id": "259c6a8e-9de3-4e74-bb7c-6a5cca2092f6",
   "metadata": {},
   "outputs": [
    {
     "name": "stdout",
     "output_type": "stream",
     "text": [
      "Your Computer Name is:9d70a37a5517\n",
      "Your Computer IP Address is:172.18.0.4\n"
     ]
    }
   ],
   "source": [
    "hostname = socket.gethostname()\n",
    "IPAddr = socket.gethostbyname(hostname)\n",
    "\n",
    "print(\"Your Computer Name is:\" + hostname)\n",
    "print(\"Your Computer IP Address is:\" + IPAddr)"
   ]
  },
  {
   "cell_type": "code",
   "execution_count": 6,
   "id": "ee8d4b5e-7395-428e-bf2e-c79efd419b1d",
   "metadata": {},
   "outputs": [],
   "source": [
    "f = open('../output/delete_me', 'wb')\n",
    "f.close()"
   ]
  },
  {
   "cell_type": "code",
   "execution_count": null,
   "id": "674374b2-b8a0-4b9b-93cb-2a4cb4761b3a",
   "metadata": {},
   "outputs": [],
   "source": []
  },
  {
   "cell_type": "code",
   "execution_count": null,
   "id": "72dd69ae-f20b-408f-a51c-4011c4cdf966",
   "metadata": {},
   "outputs": [],
   "source": []
  }
 ],
 "metadata": {
  "kernelspec": {
   "display_name": "Python 3 (ipykernel)",
   "language": "python",
   "name": "python3"
  },
  "language_info": {
   "codemirror_mode": {
    "name": "ipython",
    "version": 3
   },
   "file_extension": ".py",
   "mimetype": "text/x-python",
   "name": "python",
   "nbconvert_exporter": "python",
   "pygments_lexer": "ipython3",
   "version": "3.10.14"
  }
 },
 "nbformat": 4,
 "nbformat_minor": 5
}
